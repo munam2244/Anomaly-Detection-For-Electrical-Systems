{
 "cells": [
  {
   "cell_type": "code",
   "execution_count": null,
   "metadata": {},
   "outputs": [],
   "source": [
    "import os\n",
    "import pandas as pd\n",
    "import plotly.express as px\n",
    "\n",
    "def plot_current_voltage(csv_file):\n",
    "    # Load the CSV file\n",
    "    data = pd.read_csv(csv_file)\n",
    "\n",
    "    # Convert the 'Timestamp' column to datetime\n",
    "    data['Timestamp'] = pd.to_datetime(data['Timestamp'])\n",
    "\n",
    "    # Extract file name from the path\n",
    "    file_name = os.path.basename(csv_file)\n",
    "\n",
    "    # Plot Current vs Timestamp\n",
    "    fig_current = px.line(data, x='Timestamp', y='Current (A)', title=f'Current vs Timestamp ({file_name})')\n",
    "    fig_current.update_xaxes(title_text='Timestamp')\n",
    "    fig_current.update_yaxes(title_text='Current (A)')\n",
    "    fig_current.show()\n",
    "\n",
    "    # Plot Voltage vs Timestamp\n",
    "    fig_voltage = px.line(data, x='Timestamp', y='Voltage (V)', title=f'Voltage vs Timestamp ({file_name})')\n",
    "    fig_voltage.update_xaxes(title_text='Timestamp')\n",
    "    fig_voltage.update_yaxes(title_text='Voltage (V)')\n",
    "    fig_voltage.show()\n",
    "\n",
    "# Directory containing the CSV files\n",
    "directory = r'C:\\Users\\rohitag\\Desktop\\casestudy13\\Anomalies_data_17.05.24'\n",
    "\n",
    "# Iterate over each file in the directory\n",
    "for filename in os.listdir(directory):\n",
    "    if filename.endswith('.csv'):\n",
    "        file_path = os.path.join(directory, filename)\n",
    "        print(f\"Plotting graphs for {file_path}\")\n",
    "        plot_current_voltage(file_path)"
   ]
  },
  {
   "cell_type": "code",
   "execution_count": null,
   "metadata": {},
   "outputs": [],
   "source": []
  }
 ],
 "metadata": {
  "kernelspec": {
   "display_name": "casestudy13",
   "language": "python",
   "name": "python3"
  },
  "language_info": {
   "codemirror_mode": {
    "name": "ipython",
    "version": 3
   },
   "file_extension": ".py",
   "mimetype": "text/x-python",
   "name": "python",
   "nbconvert_exporter": "python",
   "pygments_lexer": "ipython3",
   "version": "3.11.7"
  }
 },
 "nbformat": 4,
 "nbformat_minor": 2
}
